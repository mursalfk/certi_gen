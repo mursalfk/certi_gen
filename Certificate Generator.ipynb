{
 "cells": [
  {
   "cell_type": "markdown",
   "metadata": {},
   "source": [
    "# Script to Generate Certificates in bulk"
   ]
  },
  {
   "cell_type": "code",
   "execution_count": 24,
   "metadata": {},
   "outputs": [],
   "source": [
    "from PIL import Image, ImageDraw, ImageFont\n",
    "sample_names = [\"Ali Ahmed\", \"Abid Ali\", \"Mursal Furqan\", \"Jumoon Sheedi\"]\n",
    "for i in sample_names:\n",
    "    im = Image.open(\"Attendee Certificate.jpg\")\n",
    "    d = ImageDraw.Draw(im)\n",
    "    location = (215, 882)\n",
    "    text_color = (0, 137, 209)\n",
    "    font = ImageFont.truetype(\"arial.ttf\", 150)\n",
    "    d.text(location, i, fill=text_color,font=font)\n",
    "    im.save(\"Test_certs/certificate_\" + i + \".jpeg\")"
   ]
  }
 ],
 "metadata": {
  "kernelspec": {
   "display_name": "Python 3",
   "language": "python",
   "name": "python3"
  },
  "language_info": {
   "codemirror_mode": {
    "name": "ipython",
    "version": 3
   },
   "file_extension": ".py",
   "mimetype": "text/x-python",
   "name": "python",
   "nbconvert_exporter": "python",
   "pygments_lexer": "ipython3",
   "version": "3.7.4"
  }
 },
 "nbformat": 4,
 "nbformat_minor": 2
}
